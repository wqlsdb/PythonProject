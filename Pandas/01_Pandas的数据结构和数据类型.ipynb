{
 "cells": [
  {
   "cell_type": "code",
   "execution_count": 1,
   "id": "initial_id",
   "metadata": {
    "collapsed": true,
    "ExecuteTime": {
     "end_time": "2024-12-24T14:15:40.544135200Z",
     "start_time": "2024-12-24T14:15:38.912045600Z"
    }
   },
   "outputs": [],
   "source": [
    "# 导包\n",
    "import pandas as pd\n",
    "import numpy as np"
   ]
  },
  {
   "cell_type": "markdown",
   "source": [
    "# 1. 演示DataFrame的属性"
   ],
   "metadata": {
    "collapsed": false
   },
   "id": "51fe1a4bf85d780b"
  },
  {
   "cell_type": "markdown",
   "source": [
    "## 1.1 准备动作, 创建DataFrame对象, 数据集 -> 10个学生的5门课程成绩(随机)"
   ],
   "metadata": {
    "collapsed": false
   },
   "id": "34ab68960aef851c"
  },
  {
   "cell_type": "code",
   "execution_count": 2,
   "outputs": [
    {
     "data": {
      "text/plain": "array([[81, 89, 65, 50, 51],\n       [53, 57, 63, 70, 56],\n       [79, 52, 77, 93, 79],\n       [86, 91, 54, 58, 48],\n       [82, 83, 53, 83, 47],\n       [91, 69, 45, 60, 93],\n       [83, 64, 48, 43, 56],\n       [51, 53, 48, 79, 73],\n       [96, 88, 86, 75, 93],\n       [78, 80, 53, 87, 59]])"
     },
     "execution_count": 2,
     "metadata": {},
     "output_type": "execute_result"
    }
   ],
   "source": [
    "# 1. 通过Numpy随机生成10个学生的5门课程成绩.\n",
    "# score_data = np.random.randint(40, 100, size=(10, 5), dtype=np.int64)\n",
    "score_data = np.random.randint(40, 100, size=(10, 5))\n",
    "score_data"
   ],
   "metadata": {
    "collapsed": false,
    "ExecuteTime": {
     "end_time": "2024-12-24T14:15:59.121586800Z",
     "start_time": "2024-12-24T14:15:59.108956400Z"
    }
   },
   "id": "b2d464751a9e69ec"
  },
  {
   "cell_type": "code",
   "execution_count": 4,
   "outputs": [
    {
     "data": {
      "text/plain": "    0   1   2   3   4\n0  75  65  84  49  80\n1  52  84  41  41  63\n2  92  57  95  55  91\n3  73  76  90  45  61\n4  70  86  80  84  89\n5  83  80  61  93  60\n6  46  86  43  44  60\n7  45  78  79  60  77\n8  77  92  78  82  58\n9  80  70  43  50  76",
      "text/html": "<div>\n<style scoped>\n    .dataframe tbody tr th:only-of-type {\n        vertical-align: middle;\n    }\n\n    .dataframe tbody tr th {\n        vertical-align: top;\n    }\n\n    .dataframe thead th {\n        text-align: right;\n    }\n</style>\n<table border=\"1\" class=\"dataframe\">\n  <thead>\n    <tr style=\"text-align: right;\">\n      <th></th>\n      <th>0</th>\n      <th>1</th>\n      <th>2</th>\n      <th>3</th>\n      <th>4</th>\n    </tr>\n  </thead>\n  <tbody>\n    <tr>\n      <th>0</th>\n      <td>75</td>\n      <td>65</td>\n      <td>84</td>\n      <td>49</td>\n      <td>80</td>\n    </tr>\n    <tr>\n      <th>1</th>\n      <td>52</td>\n      <td>84</td>\n      <td>41</td>\n      <td>41</td>\n      <td>63</td>\n    </tr>\n    <tr>\n      <th>2</th>\n      <td>92</td>\n      <td>57</td>\n      <td>95</td>\n      <td>55</td>\n      <td>91</td>\n    </tr>\n    <tr>\n      <th>3</th>\n      <td>73</td>\n      <td>76</td>\n      <td>90</td>\n      <td>45</td>\n      <td>61</td>\n    </tr>\n    <tr>\n      <th>4</th>\n      <td>70</td>\n      <td>86</td>\n      <td>80</td>\n      <td>84</td>\n      <td>89</td>\n    </tr>\n    <tr>\n      <th>5</th>\n      <td>83</td>\n      <td>80</td>\n      <td>61</td>\n      <td>93</td>\n      <td>60</td>\n    </tr>\n    <tr>\n      <th>6</th>\n      <td>46</td>\n      <td>86</td>\n      <td>43</td>\n      <td>44</td>\n      <td>60</td>\n    </tr>\n    <tr>\n      <th>7</th>\n      <td>45</td>\n      <td>78</td>\n      <td>79</td>\n      <td>60</td>\n      <td>77</td>\n    </tr>\n    <tr>\n      <th>8</th>\n      <td>77</td>\n      <td>92</td>\n      <td>78</td>\n      <td>82</td>\n      <td>58</td>\n    </tr>\n    <tr>\n      <th>9</th>\n      <td>80</td>\n      <td>70</td>\n      <td>43</td>\n      <td>50</td>\n      <td>76</td>\n    </tr>\n  </tbody>\n</table>\n</div>"
     },
     "execution_count": 4,
     "metadata": {},
     "output_type": "execute_result"
    }
   ],
   "source": [
    "# 2. 把上述的 ndarray -> DataFrame对象\n",
    "score_df = pd.DataFrame(score_data)\n",
    "score_df"
   ],
   "metadata": {
    "collapsed": false,
    "ExecuteTime": {
     "end_time": "2024-12-21T13:03:23.939428300Z",
     "start_time": "2024-12-21T13:03:23.914695200Z"
    }
   },
   "id": "47bddca20e6e653a"
  },
  {
   "cell_type": "code",
   "execution_count": 5,
   "outputs": [],
   "source": [
    "# 3. 定义变量, 记录列名 和 行索引. \n",
    "col_names = ['语文', '数学', '英语', '物理', '化学']\n",
    "# idx_names = [i for i in range(10)]      # 这里的10是学生个数, 写固定值不好. \n",
    "idx_names = ['同学' + str(i) for i in range(score_df.shape[0])]\n",
    "# idx_names\n",
    "\n",
    "# score_df.shape      # (10, 5),  10行5列\n",
    "# score_df.shape[0]   # 10, 行数"
   ],
   "metadata": {
    "collapsed": false,
    "ExecuteTime": {
     "end_time": "2024-12-21T13:03:26.216882Z",
     "start_time": "2024-12-21T13:03:26.190330400Z"
    }
   },
   "id": "437ab9b77aee178d"
  },
  {
   "cell_type": "code",
   "execution_count": 6,
   "outputs": [
    {
     "data": {
      "text/plain": "     语文  数学  英语  物理  化学\n同学0  75  65  84  49  80\n同学1  52  84  41  41  63\n同学2  92  57  95  55  91\n同学3  73  76  90  45  61\n同学4  70  86  80  84  89\n同学5  83  80  61  93  60\n同学6  46  86  43  44  60\n同学7  45  78  79  60  77\n同学8  77  92  78  82  58\n同学9  80  70  43  50  76",
      "text/html": "<div>\n<style scoped>\n    .dataframe tbody tr th:only-of-type {\n        vertical-align: middle;\n    }\n\n    .dataframe tbody tr th {\n        vertical-align: top;\n    }\n\n    .dataframe thead th {\n        text-align: right;\n    }\n</style>\n<table border=\"1\" class=\"dataframe\">\n  <thead>\n    <tr style=\"text-align: right;\">\n      <th></th>\n      <th>语文</th>\n      <th>数学</th>\n      <th>英语</th>\n      <th>物理</th>\n      <th>化学</th>\n    </tr>\n  </thead>\n  <tbody>\n    <tr>\n      <th>同学0</th>\n      <td>75</td>\n      <td>65</td>\n      <td>84</td>\n      <td>49</td>\n      <td>80</td>\n    </tr>\n    <tr>\n      <th>同学1</th>\n      <td>52</td>\n      <td>84</td>\n      <td>41</td>\n      <td>41</td>\n      <td>63</td>\n    </tr>\n    <tr>\n      <th>同学2</th>\n      <td>92</td>\n      <td>57</td>\n      <td>95</td>\n      <td>55</td>\n      <td>91</td>\n    </tr>\n    <tr>\n      <th>同学3</th>\n      <td>73</td>\n      <td>76</td>\n      <td>90</td>\n      <td>45</td>\n      <td>61</td>\n    </tr>\n    <tr>\n      <th>同学4</th>\n      <td>70</td>\n      <td>86</td>\n      <td>80</td>\n      <td>84</td>\n      <td>89</td>\n    </tr>\n    <tr>\n      <th>同学5</th>\n      <td>83</td>\n      <td>80</td>\n      <td>61</td>\n      <td>93</td>\n      <td>60</td>\n    </tr>\n    <tr>\n      <th>同学6</th>\n      <td>46</td>\n      <td>86</td>\n      <td>43</td>\n      <td>44</td>\n      <td>60</td>\n    </tr>\n    <tr>\n      <th>同学7</th>\n      <td>45</td>\n      <td>78</td>\n      <td>79</td>\n      <td>60</td>\n      <td>77</td>\n    </tr>\n    <tr>\n      <th>同学8</th>\n      <td>77</td>\n      <td>92</td>\n      <td>78</td>\n      <td>82</td>\n      <td>58</td>\n    </tr>\n    <tr>\n      <th>同学9</th>\n      <td>80</td>\n      <td>70</td>\n      <td>43</td>\n      <td>50</td>\n      <td>76</td>\n    </tr>\n  </tbody>\n</table>\n</div>"
     },
     "execution_count": 6,
     "metadata": {},
     "output_type": "execute_result"
    }
   ],
   "source": [
    "# 4. 设置列名 和 行索引.\n",
    "score_df.columns = col_names\n",
    "score_df.index = idx_names\n",
    "# 5. 打印结果.\n",
    "score_df"
   ],
   "metadata": {
    "collapsed": false,
    "ExecuteTime": {
     "end_time": "2024-12-21T13:03:31.277484500Z",
     "start_time": "2024-12-21T13:03:31.259212900Z"
    }
   },
   "id": "3af8a7f2efac383e"
  },
  {
   "cell_type": "markdown",
   "source": [
    "## 1.2 演示df对象的 常用属性"
   ],
   "metadata": {
    "collapsed": false
   },
   "id": "ffeb69865e812d13"
  },
  {
   "cell_type": "code",
   "execution_count": null,
   "outputs": [],
   "source": [
    "# shape属性: 获取df对象的形状, 格式为: (行数, 列数)\n",
    "score_df.shape      # (10, 5)"
   ],
   "metadata": {
    "collapsed": false
   },
   "id": "c7d1ee78d261ce3"
  },
  {
   "cell_type": "code",
   "execution_count": 7,
   "outputs": [
    {
     "data": {
      "text/plain": "Index(['同学0', '同学1', '同学2', '同学3', '同学4', '同学5', '同学6', '同学7', '同学8', '同学9'], dtype='object')"
     },
     "execution_count": 7,
     "metadata": {},
     "output_type": "execute_result"
    }
   ],
   "source": [
    "# index属性: 获取df对象的行索引\n",
    "score_df.index      # 在Pandas中, object表示字符串, 即: 等价于Python中的 str类型"
   ],
   "metadata": {
    "collapsed": false,
    "ExecuteTime": {
     "end_time": "2024-12-21T13:03:36.220579800Z",
     "start_time": "2024-12-21T13:03:36.216297300Z"
    }
   },
   "id": "7e5db521acf48d08"
  },
  {
   "cell_type": "code",
   "execution_count": 8,
   "outputs": [
    {
     "data": {
      "text/plain": "Index(['语文', '数学', '英语', '物理', '化学'], dtype='object')"
     },
     "execution_count": 8,
     "metadata": {},
     "output_type": "execute_result"
    }
   ],
   "source": [
    "# columns属性: 获取df对象的列名\n",
    "score_df.columns"
   ],
   "metadata": {
    "collapsed": false,
    "ExecuteTime": {
     "end_time": "2024-12-21T13:03:44.249382300Z",
     "start_time": "2024-12-21T13:03:44.245388100Z"
    }
   },
   "id": "1325c0cbb9d34a6"
  },
  {
   "cell_type": "code",
   "execution_count": 9,
   "outputs": [
    {
     "data": {
      "text/plain": "array([[75, 65, 84, 49, 80],\n       [52, 84, 41, 41, 63],\n       [92, 57, 95, 55, 91],\n       [73, 76, 90, 45, 61],\n       [70, 86, 80, 84, 89],\n       [83, 80, 61, 93, 60],\n       [46, 86, 43, 44, 60],\n       [45, 78, 79, 60, 77],\n       [77, 92, 78, 82, 58],\n       [80, 70, 43, 50, 76]])"
     },
     "execution_count": 9,
     "metadata": {},
     "output_type": "execute_result"
    }
   ],
   "source": [
    "# values属性: 获取df对象的数据, 返回ndarray\n",
    "score_df.values"
   ],
   "metadata": {
    "collapsed": false,
    "ExecuteTime": {
     "end_time": "2024-12-21T13:05:09.909256200Z",
     "start_time": "2024-12-21T13:05:09.895531600Z"
    }
   },
   "id": "dd10f348ea38ac9c"
  },
  {
   "cell_type": "code",
   "execution_count": 10,
   "outputs": [
    {
     "data": {
      "text/plain": "    同学0  同学1  同学2  同学3  同学4  同学5  同学6  同学7  同学8  同学9\n语文   75   52   92   73   70   83   46   45   77   80\n数学   65   84   57   76   86   80   86   78   92   70\n英语   84   41   95   90   80   61   43   79   78   43\n物理   49   41   55   45   84   93   44   60   82   50\n化学   80   63   91   61   89   60   60   77   58   76",
      "text/html": "<div>\n<style scoped>\n    .dataframe tbody tr th:only-of-type {\n        vertical-align: middle;\n    }\n\n    .dataframe tbody tr th {\n        vertical-align: top;\n    }\n\n    .dataframe thead th {\n        text-align: right;\n    }\n</style>\n<table border=\"1\" class=\"dataframe\">\n  <thead>\n    <tr style=\"text-align: right;\">\n      <th></th>\n      <th>同学0</th>\n      <th>同学1</th>\n      <th>同学2</th>\n      <th>同学3</th>\n      <th>同学4</th>\n      <th>同学5</th>\n      <th>同学6</th>\n      <th>同学7</th>\n      <th>同学8</th>\n      <th>同学9</th>\n    </tr>\n  </thead>\n  <tbody>\n    <tr>\n      <th>语文</th>\n      <td>75</td>\n      <td>52</td>\n      <td>92</td>\n      <td>73</td>\n      <td>70</td>\n      <td>83</td>\n      <td>46</td>\n      <td>45</td>\n      <td>77</td>\n      <td>80</td>\n    </tr>\n    <tr>\n      <th>数学</th>\n      <td>65</td>\n      <td>84</td>\n      <td>57</td>\n      <td>76</td>\n      <td>86</td>\n      <td>80</td>\n      <td>86</td>\n      <td>78</td>\n      <td>92</td>\n      <td>70</td>\n    </tr>\n    <tr>\n      <th>英语</th>\n      <td>84</td>\n      <td>41</td>\n      <td>95</td>\n      <td>90</td>\n      <td>80</td>\n      <td>61</td>\n      <td>43</td>\n      <td>79</td>\n      <td>78</td>\n      <td>43</td>\n    </tr>\n    <tr>\n      <th>物理</th>\n      <td>49</td>\n      <td>41</td>\n      <td>55</td>\n      <td>45</td>\n      <td>84</td>\n      <td>93</td>\n      <td>44</td>\n      <td>60</td>\n      <td>82</td>\n      <td>50</td>\n    </tr>\n    <tr>\n      <th>化学</th>\n      <td>80</td>\n      <td>63</td>\n      <td>91</td>\n      <td>61</td>\n      <td>89</td>\n      <td>60</td>\n      <td>60</td>\n      <td>77</td>\n      <td>58</td>\n      <td>76</td>\n    </tr>\n  </tbody>\n</table>\n</div>"
     },
     "execution_count": 10,
     "metadata": {},
     "output_type": "execute_result"
    }
   ],
   "source": [
    "# T属性, 行列转置.\n",
    "score_df.T"
   ],
   "metadata": {
    "collapsed": false,
    "ExecuteTime": {
     "end_time": "2024-12-21T13:05:54.235336600Z",
     "start_time": "2024-12-21T13:05:54.221870900Z"
    }
   },
   "id": "45baf22bab410bd1"
  },
  {
   "cell_type": "code",
   "execution_count": 11,
   "outputs": [
    {
     "data": {
      "text/plain": "50"
     },
     "execution_count": 11,
     "metadata": {},
     "output_type": "execute_result"
    }
   ],
   "source": [
    "# size属性, 获取df对象的元素个数, 即:行数 * 列数\n",
    "score_df.size   "
   ],
   "metadata": {
    "collapsed": false,
    "ExecuteTime": {
     "end_time": "2024-12-21T13:06:05.565187900Z",
     "start_time": "2024-12-21T13:06:05.539241700Z"
    }
   },
   "id": "5171b3885f93c8a"
  },
  {
   "cell_type": "code",
   "execution_count": 12,
   "outputs": [
    {
     "data": {
      "text/plain": "语文    int32\n数学    int32\n英语    int32\n物理    int32\n化学    int32\ndtype: object"
     },
     "execution_count": 12,
     "metadata": {},
     "output_type": "execute_result"
    }
   ],
   "source": [
    "# dtypes属性, 获取df对象的数据类型\n",
    "score_df.dtypes"
   ],
   "metadata": {
    "collapsed": false,
    "ExecuteTime": {
     "end_time": "2024-12-21T13:06:15.484604700Z",
     "start_time": "2024-12-21T13:06:15.454331800Z"
    }
   },
   "id": "7d7ac421115c6f65"
  },
  {
   "cell_type": "markdown",
   "source": [
    "# 2. 演示DataFrame的方法"
   ],
   "metadata": {
    "collapsed": false
   },
   "id": "b5325efc0adf060f"
  },
  {
   "cell_type": "code",
   "execution_count": 13,
   "outputs": [
    {
     "data": {
      "text/plain": "     语文  数学  英语  物理  化学\n同学0  75  65  84  49  80\n同学1  52  84  41  41  63\n同学2  92  57  95  55  91\n同学3  73  76  90  45  61\n同学4  70  86  80  84  89\n同学5  83  80  61  93  60\n同学6  46  86  43  44  60\n同学7  45  78  79  60  77\n同学8  77  92  78  82  58\n同学9  80  70  43  50  76",
      "text/html": "<div>\n<style scoped>\n    .dataframe tbody tr th:only-of-type {\n        vertical-align: middle;\n    }\n\n    .dataframe tbody tr th {\n        vertical-align: top;\n    }\n\n    .dataframe thead th {\n        text-align: right;\n    }\n</style>\n<table border=\"1\" class=\"dataframe\">\n  <thead>\n    <tr style=\"text-align: right;\">\n      <th></th>\n      <th>语文</th>\n      <th>数学</th>\n      <th>英语</th>\n      <th>物理</th>\n      <th>化学</th>\n    </tr>\n  </thead>\n  <tbody>\n    <tr>\n      <th>同学0</th>\n      <td>75</td>\n      <td>65</td>\n      <td>84</td>\n      <td>49</td>\n      <td>80</td>\n    </tr>\n    <tr>\n      <th>同学1</th>\n      <td>52</td>\n      <td>84</td>\n      <td>41</td>\n      <td>41</td>\n      <td>63</td>\n    </tr>\n    <tr>\n      <th>同学2</th>\n      <td>92</td>\n      <td>57</td>\n      <td>95</td>\n      <td>55</td>\n      <td>91</td>\n    </tr>\n    <tr>\n      <th>同学3</th>\n      <td>73</td>\n      <td>76</td>\n      <td>90</td>\n      <td>45</td>\n      <td>61</td>\n    </tr>\n    <tr>\n      <th>同学4</th>\n      <td>70</td>\n      <td>86</td>\n      <td>80</td>\n      <td>84</td>\n      <td>89</td>\n    </tr>\n    <tr>\n      <th>同学5</th>\n      <td>83</td>\n      <td>80</td>\n      <td>61</td>\n      <td>93</td>\n      <td>60</td>\n    </tr>\n    <tr>\n      <th>同学6</th>\n      <td>46</td>\n      <td>86</td>\n      <td>43</td>\n      <td>44</td>\n      <td>60</td>\n    </tr>\n    <tr>\n      <th>同学7</th>\n      <td>45</td>\n      <td>78</td>\n      <td>79</td>\n      <td>60</td>\n      <td>77</td>\n    </tr>\n    <tr>\n      <th>同学8</th>\n      <td>77</td>\n      <td>92</td>\n      <td>78</td>\n      <td>82</td>\n      <td>58</td>\n    </tr>\n    <tr>\n      <th>同学9</th>\n      <td>80</td>\n      <td>70</td>\n      <td>43</td>\n      <td>50</td>\n      <td>76</td>\n    </tr>\n  </tbody>\n</table>\n</div>"
     },
     "execution_count": 13,
     "metadata": {},
     "output_type": "execute_result"
    }
   ],
   "source": [
    "# head()方法, 默认: 获取前5行数据\n",
    "# score_df.head()\n",
    "score_df.head(10)       # 可以获取指定条数的数据. "
   ],
   "metadata": {
    "collapsed": false,
    "ExecuteTime": {
     "end_time": "2024-12-21T13:06:32.043146600Z",
     "start_time": "2024-12-21T13:06:32.030675600Z"
    }
   },
   "id": "49587a289e4fbd53"
  },
  {
   "cell_type": "code",
   "execution_count": null,
   "outputs": [],
   "source": [
    "# tail()方法, 默认: 获取最后5行数据\n",
    "score_df.tail()\n",
    "score_df.tail(10)   # 可以获取指定条数的数据. "
   ],
   "metadata": {
    "collapsed": false
   },
   "id": "e2fa7c5f70f22c16"
  },
  {
   "cell_type": "code",
   "execution_count": 14,
   "outputs": [
    {
     "data": {
      "text/plain": "              语文         数学         英语         物理         化学\ncount  10.000000  10.000000  10.000000  10.000000  10.000000\nmean   69.300000  77.400000  69.400000  60.300000  71.500000\nstd    16.179891  10.741405  20.662365  18.962243  12.642521\nmin    45.000000  57.000000  41.000000  41.000000  58.000000\n25%    56.500000  71.500000  47.500000  46.000000  60.250000\n50%    74.000000  79.000000  78.500000  52.500000  69.500000\n75%    79.250000  85.500000  83.000000  76.500000  79.250000\nmax    92.000000  92.000000  95.000000  93.000000  91.000000",
      "text/html": "<div>\n<style scoped>\n    .dataframe tbody tr th:only-of-type {\n        vertical-align: middle;\n    }\n\n    .dataframe tbody tr th {\n        vertical-align: top;\n    }\n\n    .dataframe thead th {\n        text-align: right;\n    }\n</style>\n<table border=\"1\" class=\"dataframe\">\n  <thead>\n    <tr style=\"text-align: right;\">\n      <th></th>\n      <th>语文</th>\n      <th>数学</th>\n      <th>英语</th>\n      <th>物理</th>\n      <th>化学</th>\n    </tr>\n  </thead>\n  <tbody>\n    <tr>\n      <th>count</th>\n      <td>10.000000</td>\n      <td>10.000000</td>\n      <td>10.000000</td>\n      <td>10.000000</td>\n      <td>10.000000</td>\n    </tr>\n    <tr>\n      <th>mean</th>\n      <td>69.300000</td>\n      <td>77.400000</td>\n      <td>69.400000</td>\n      <td>60.300000</td>\n      <td>71.500000</td>\n    </tr>\n    <tr>\n      <th>std</th>\n      <td>16.179891</td>\n      <td>10.741405</td>\n      <td>20.662365</td>\n      <td>18.962243</td>\n      <td>12.642521</td>\n    </tr>\n    <tr>\n      <th>min</th>\n      <td>45.000000</td>\n      <td>57.000000</td>\n      <td>41.000000</td>\n      <td>41.000000</td>\n      <td>58.000000</td>\n    </tr>\n    <tr>\n      <th>25%</th>\n      <td>56.500000</td>\n      <td>71.500000</td>\n      <td>47.500000</td>\n      <td>46.000000</td>\n      <td>60.250000</td>\n    </tr>\n    <tr>\n      <th>50%</th>\n      <td>74.000000</td>\n      <td>79.000000</td>\n      <td>78.500000</td>\n      <td>52.500000</td>\n      <td>69.500000</td>\n    </tr>\n    <tr>\n      <th>75%</th>\n      <td>79.250000</td>\n      <td>85.500000</td>\n      <td>83.000000</td>\n      <td>76.500000</td>\n      <td>79.250000</td>\n    </tr>\n    <tr>\n      <th>max</th>\n      <td>92.000000</td>\n      <td>92.000000</td>\n      <td>95.000000</td>\n      <td>93.000000</td>\n      <td>91.000000</td>\n    </tr>\n  </tbody>\n</table>\n</div>"
     },
     "execution_count": 14,
     "metadata": {},
     "output_type": "execute_result"
    }
   ],
   "source": [
    "# describe()方法, 获取数据的描述性 统计 信息\n",
    "score_df.describe()"
   ],
   "metadata": {
    "collapsed": false,
    "ExecuteTime": {
     "end_time": "2024-12-21T13:06:57.153250900Z",
     "start_time": "2024-12-21T13:06:57.134484400Z"
    }
   },
   "id": "24331fe5da168e0f"
  },
  {
   "cell_type": "code",
   "execution_count": 15,
   "outputs": [
    {
     "name": "stdout",
     "output_type": "stream",
     "text": [
      "<class 'pandas.core.frame.DataFrame'>\n",
      "Index: 10 entries, 同学0 to 同学9\n",
      "Data columns (total 5 columns):\n",
      " #   Column  Non-Null Count  Dtype\n",
      "---  ------  --------------  -----\n",
      " 0   语文      10 non-null     int32\n",
      " 1   数学      10 non-null     int32\n",
      " 2   英语      10 non-null     int32\n",
      " 3   物理      10 non-null     int32\n",
      " 4   化学      10 non-null     int32\n",
      "dtypes: int32(5)\n",
      "memory usage: 580.0+ bytes\n"
     ]
    }
   ],
   "source": [
    "# info()方法, 获取数据的描述性 详细 信息\n",
    "score_df.info()"
   ],
   "metadata": {
    "collapsed": false,
    "ExecuteTime": {
     "end_time": "2024-12-21T13:07:02.883704400Z",
     "start_time": "2024-12-21T13:07:02.861544500Z"
    }
   },
   "id": "c289fc83bf8e806e"
  },
  {
   "cell_type": "markdown",
   "source": [
    "# 3. 演示DataFrame的索引操作"
   ],
   "metadata": {
    "collapsed": false
   },
   "id": "63cbe87f6caf4a38"
  },
  {
   "cell_type": "markdown",
   "source": [
    "## 3.1 修改索引"
   ],
   "metadata": {
    "collapsed": false
   },
   "id": "cfd9985351d80db5"
  },
  {
   "cell_type": "code",
   "execution_count": 16,
   "outputs": [
    {
     "data": {
      "text/plain": "     语文  数学  英语  物理  化学\n同学0  75  65  84  49  80\n同学1  52  84  41  41  63\n同学2  92  57  95  55  91\n同学3  73  76  90  45  61\n同学4  70  86  80  84  89\n同学5  83  80  61  93  60\n同学6  46  86  43  44  60\n同学7  45  78  79  60  77\n同学8  77  92  78  82  58\n同学9  80  70  43  50  76",
      "text/html": "<div>\n<style scoped>\n    .dataframe tbody tr th:only-of-type {\n        vertical-align: middle;\n    }\n\n    .dataframe tbody tr th {\n        vertical-align: top;\n    }\n\n    .dataframe thead th {\n        text-align: right;\n    }\n</style>\n<table border=\"1\" class=\"dataframe\">\n  <thead>\n    <tr style=\"text-align: right;\">\n      <th></th>\n      <th>语文</th>\n      <th>数学</th>\n      <th>英语</th>\n      <th>物理</th>\n      <th>化学</th>\n    </tr>\n  </thead>\n  <tbody>\n    <tr>\n      <th>同学0</th>\n      <td>75</td>\n      <td>65</td>\n      <td>84</td>\n      <td>49</td>\n      <td>80</td>\n    </tr>\n    <tr>\n      <th>同学1</th>\n      <td>52</td>\n      <td>84</td>\n      <td>41</td>\n      <td>41</td>\n      <td>63</td>\n    </tr>\n    <tr>\n      <th>同学2</th>\n      <td>92</td>\n      <td>57</td>\n      <td>95</td>\n      <td>55</td>\n      <td>91</td>\n    </tr>\n    <tr>\n      <th>同学3</th>\n      <td>73</td>\n      <td>76</td>\n      <td>90</td>\n      <td>45</td>\n      <td>61</td>\n    </tr>\n    <tr>\n      <th>同学4</th>\n      <td>70</td>\n      <td>86</td>\n      <td>80</td>\n      <td>84</td>\n      <td>89</td>\n    </tr>\n    <tr>\n      <th>同学5</th>\n      <td>83</td>\n      <td>80</td>\n      <td>61</td>\n      <td>93</td>\n      <td>60</td>\n    </tr>\n    <tr>\n      <th>同学6</th>\n      <td>46</td>\n      <td>86</td>\n      <td>43</td>\n      <td>44</td>\n      <td>60</td>\n    </tr>\n    <tr>\n      <th>同学7</th>\n      <td>45</td>\n      <td>78</td>\n      <td>79</td>\n      <td>60</td>\n      <td>77</td>\n    </tr>\n    <tr>\n      <th>同学8</th>\n      <td>77</td>\n      <td>92</td>\n      <td>78</td>\n      <td>82</td>\n      <td>58</td>\n    </tr>\n    <tr>\n      <th>同学9</th>\n      <td>80</td>\n      <td>70</td>\n      <td>43</td>\n      <td>50</td>\n      <td>76</td>\n    </tr>\n  </tbody>\n</table>\n</div>"
     },
     "execution_count": 16,
     "metadata": {},
     "output_type": "execute_result"
    }
   ],
   "source": [
    "# 1. 观察源数据.\n",
    "score_df"
   ],
   "metadata": {
    "collapsed": false,
    "ExecuteTime": {
     "end_time": "2024-12-21T13:07:20.570332900Z",
     "start_time": "2024-12-21T13:07:20.538582300Z"
    }
   },
   "id": "4f04ed11e9eff0db"
  },
  {
   "cell_type": "code",
   "execution_count": 17,
   "outputs": [
    {
     "data": {
      "text/plain": "     语文  数学  英语  物理  化学\n同学0  75  65  84  49  80\n同学1  52  84  41  41  63\n同学2  92  57  95  55  91\n同学3  73  76  90  45  61\n同学4  70  86  80  84  89\n同学5  83  80  61  93  60\n同学6  46  86  43  44  60\n同学7  45  78  79  60  77\n同学8  77  92  78  82  58\n同学9  80  70  43  50  76",
      "text/html": "<div>\n<style scoped>\n    .dataframe tbody tr th:only-of-type {\n        vertical-align: middle;\n    }\n\n    .dataframe tbody tr th {\n        vertical-align: top;\n    }\n\n    .dataframe thead th {\n        text-align: right;\n    }\n</style>\n<table border=\"1\" class=\"dataframe\">\n  <thead>\n    <tr style=\"text-align: right;\">\n      <th></th>\n      <th>语文</th>\n      <th>数学</th>\n      <th>英语</th>\n      <th>物理</th>\n      <th>化学</th>\n    </tr>\n  </thead>\n  <tbody>\n    <tr>\n      <th>同学0</th>\n      <td>75</td>\n      <td>65</td>\n      <td>84</td>\n      <td>49</td>\n      <td>80</td>\n    </tr>\n    <tr>\n      <th>同学1</th>\n      <td>52</td>\n      <td>84</td>\n      <td>41</td>\n      <td>41</td>\n      <td>63</td>\n    </tr>\n    <tr>\n      <th>同学2</th>\n      <td>92</td>\n      <td>57</td>\n      <td>95</td>\n      <td>55</td>\n      <td>91</td>\n    </tr>\n    <tr>\n      <th>同学3</th>\n      <td>73</td>\n      <td>76</td>\n      <td>90</td>\n      <td>45</td>\n      <td>61</td>\n    </tr>\n    <tr>\n      <th>同学4</th>\n      <td>70</td>\n      <td>86</td>\n      <td>80</td>\n      <td>84</td>\n      <td>89</td>\n    </tr>\n    <tr>\n      <th>同学5</th>\n      <td>83</td>\n      <td>80</td>\n      <td>61</td>\n      <td>93</td>\n      <td>60</td>\n    </tr>\n    <tr>\n      <th>同学6</th>\n      <td>46</td>\n      <td>86</td>\n      <td>43</td>\n      <td>44</td>\n      <td>60</td>\n    </tr>\n    <tr>\n      <th>同学7</th>\n      <td>45</td>\n      <td>78</td>\n      <td>79</td>\n      <td>60</td>\n      <td>77</td>\n    </tr>\n    <tr>\n      <th>同学8</th>\n      <td>77</td>\n      <td>92</td>\n      <td>78</td>\n      <td>82</td>\n      <td>58</td>\n    </tr>\n    <tr>\n      <th>同学9</th>\n      <td>80</td>\n      <td>70</td>\n      <td>43</td>\n      <td>50</td>\n      <td>76</td>\n    </tr>\n  </tbody>\n</table>\n</div>"
     },
     "execution_count": 17,
     "metadata": {},
     "output_type": "execute_result"
    }
   ],
   "source": [
    "# 需求: 把列名改为: 'Python基础', 'Python进阶', '数分阶段', '机器学习', '深度学习',  行索引: stu_0, stu_1...\n",
    "# 1. 错误示范.\n",
    "# score_df['同学0'] = 'stu_0'       # 错误示范, 索引不能只改1个, 只能改全部.  这个动作是给表新增1列\n",
    "\n",
    "# 2. 删除列.\n",
    "# score_df.drop('同学0', axis=1, inplace=True)  # 0: 行, 1: 列\n",
    "score_df"
   ],
   "metadata": {
    "collapsed": false,
    "ExecuteTime": {
     "end_time": "2024-12-21T13:12:42.728048100Z",
     "start_time": "2024-12-21T13:12:42.710413Z"
    }
   },
   "id": "aff2a3a84e3e882e"
  },
  {
   "cell_type": "code",
   "execution_count": 18,
   "outputs": [],
   "source": [
    "# 3. 定义新列名.\n",
    "new_col_names = ['Python基础', 'Python进阶', '数分阶段', '机器学习', '深度学习']\n",
    "# 4. 定义新行索引.\n",
    "new_idx_names = ['stu_' + str(i) for i in range(score_df.shape[0])]"
   ],
   "metadata": {
    "collapsed": false,
    "ExecuteTime": {
     "end_time": "2024-12-21T13:13:25.539688200Z",
     "start_time": "2024-12-21T13:13:25.524665300Z"
    }
   },
   "id": "de8618b192963f5b"
  },
  {
   "cell_type": "code",
   "execution_count": 19,
   "outputs": [
    {
     "data": {
      "text/plain": "       Python基础  Python进阶  数分阶段  机器学习  深度学习\nstu_0        75        65    84    49    80\nstu_1        52        84    41    41    63\nstu_2        92        57    95    55    91\nstu_3        73        76    90    45    61\nstu_4        70        86    80    84    89\nstu_5        83        80    61    93    60\nstu_6        46        86    43    44    60\nstu_7        45        78    79    60    77\nstu_8        77        92    78    82    58\nstu_9        80        70    43    50    76",
      "text/html": "<div>\n<style scoped>\n    .dataframe tbody tr th:only-of-type {\n        vertical-align: middle;\n    }\n\n    .dataframe tbody tr th {\n        vertical-align: top;\n    }\n\n    .dataframe thead th {\n        text-align: right;\n    }\n</style>\n<table border=\"1\" class=\"dataframe\">\n  <thead>\n    <tr style=\"text-align: right;\">\n      <th></th>\n      <th>Python基础</th>\n      <th>Python进阶</th>\n      <th>数分阶段</th>\n      <th>机器学习</th>\n      <th>深度学习</th>\n    </tr>\n  </thead>\n  <tbody>\n    <tr>\n      <th>stu_0</th>\n      <td>75</td>\n      <td>65</td>\n      <td>84</td>\n      <td>49</td>\n      <td>80</td>\n    </tr>\n    <tr>\n      <th>stu_1</th>\n      <td>52</td>\n      <td>84</td>\n      <td>41</td>\n      <td>41</td>\n      <td>63</td>\n    </tr>\n    <tr>\n      <th>stu_2</th>\n      <td>92</td>\n      <td>57</td>\n      <td>95</td>\n      <td>55</td>\n      <td>91</td>\n    </tr>\n    <tr>\n      <th>stu_3</th>\n      <td>73</td>\n      <td>76</td>\n      <td>90</td>\n      <td>45</td>\n      <td>61</td>\n    </tr>\n    <tr>\n      <th>stu_4</th>\n      <td>70</td>\n      <td>86</td>\n      <td>80</td>\n      <td>84</td>\n      <td>89</td>\n    </tr>\n    <tr>\n      <th>stu_5</th>\n      <td>83</td>\n      <td>80</td>\n      <td>61</td>\n      <td>93</td>\n      <td>60</td>\n    </tr>\n    <tr>\n      <th>stu_6</th>\n      <td>46</td>\n      <td>86</td>\n      <td>43</td>\n      <td>44</td>\n      <td>60</td>\n    </tr>\n    <tr>\n      <th>stu_7</th>\n      <td>45</td>\n      <td>78</td>\n      <td>79</td>\n      <td>60</td>\n      <td>77</td>\n    </tr>\n    <tr>\n      <th>stu_8</th>\n      <td>77</td>\n      <td>92</td>\n      <td>78</td>\n      <td>82</td>\n      <td>58</td>\n    </tr>\n    <tr>\n      <th>stu_9</th>\n      <td>80</td>\n      <td>70</td>\n      <td>43</td>\n      <td>50</td>\n      <td>76</td>\n    </tr>\n  </tbody>\n</table>\n</div>"
     },
     "execution_count": 19,
     "metadata": {},
     "output_type": "execute_result"
    }
   ],
   "source": [
    "# 5. 设置新的索引列. \n",
    "score_df.columns = new_col_names\n",
    "score_df.index = new_idx_names\n",
    "# 6. 查看结果.\n",
    "score_df"
   ],
   "metadata": {
    "collapsed": false,
    "ExecuteTime": {
     "end_time": "2024-12-21T13:13:30.085384700Z",
     "start_time": "2024-12-21T13:13:30.055704200Z"
    }
   },
   "id": "14219079c2d83f94"
  },
  {
   "cell_type": "markdown",
   "source": [
    "## 3.2 设置索引列"
   ],
   "metadata": {
    "collapsed": false
   },
   "id": "64c24ff15a68fb50"
  },
  {
   "cell_type": "code",
   "execution_count": 21,
   "outputs": [
    {
     "data": {
      "text/plain": "   month  sale  year\n0      1    55  2024\n1      4    40  2025\n2      7    84  2026\n3     10    31  2027",
      "text/html": "<div>\n<style scoped>\n    .dataframe tbody tr th:only-of-type {\n        vertical-align: middle;\n    }\n\n    .dataframe tbody tr th {\n        vertical-align: top;\n    }\n\n    .dataframe thead th {\n        text-align: right;\n    }\n</style>\n<table border=\"1\" class=\"dataframe\">\n  <thead>\n    <tr style=\"text-align: right;\">\n      <th></th>\n      <th>month</th>\n      <th>sale</th>\n      <th>year</th>\n    </tr>\n  </thead>\n  <tbody>\n    <tr>\n      <th>0</th>\n      <td>1</td>\n      <td>55</td>\n      <td>2024</td>\n    </tr>\n    <tr>\n      <th>1</th>\n      <td>4</td>\n      <td>40</td>\n      <td>2025</td>\n    </tr>\n    <tr>\n      <th>2</th>\n      <td>7</td>\n      <td>84</td>\n      <td>2026</td>\n    </tr>\n    <tr>\n      <th>3</th>\n      <td>10</td>\n      <td>31</td>\n      <td>2027</td>\n    </tr>\n  </tbody>\n</table>\n</div>"
     },
     "execution_count": 21,
     "metadata": {},
     "output_type": "execute_result"
    }
   ],
   "source": [
    "# 1. 准备数据.\n",
    "df = pd.DataFrame({\n",
    "    'month': [1, 4, 7, 10],\n",
    "    'sale': [55, 40, 84, 31],\n",
    "    'year': [2024, 2025, 2026, 2027]\n",
    "})\n",
    "df"
   ],
   "metadata": {
    "collapsed": false,
    "ExecuteTime": {
     "end_time": "2024-12-21T13:15:57.428129100Z",
     "start_time": "2024-12-21T13:15:57.415712600Z"
    }
   },
   "id": "39ea7907fc5a5d3e"
  },
  {
   "cell_type": "code",
   "execution_count": 22,
   "outputs": [],
   "source": [
    "# 2. 设置 month 为索引列.\n",
    "# inplace -> True, 修改源数据,  drop: 是否从数据列中删除该列, 默认是(True), 改为False可保留原理. \n",
    "# df.set_index('month', drop=False)\n",
    "\n",
    "df.set_index('month', inplace=True)"
   ],
   "metadata": {
    "collapsed": false,
    "ExecuteTime": {
     "end_time": "2024-12-21T13:16:41.960803900Z",
     "start_time": "2024-12-21T13:16:41.940579100Z"
    }
   },
   "id": "5e276d8c7f851d49"
  },
  {
   "cell_type": "code",
   "execution_count": 24,
   "outputs": [
    {
     "data": {
      "text/plain": "   month  sale  year\n0      1    55  2024\n1      4    40  2025\n2      7    84  2026\n3     10    31  2027",
      "text/html": "<div>\n<style scoped>\n    .dataframe tbody tr th:only-of-type {\n        vertical-align: middle;\n    }\n\n    .dataframe tbody tr th {\n        vertical-align: top;\n    }\n\n    .dataframe thead th {\n        text-align: right;\n    }\n</style>\n<table border=\"1\" class=\"dataframe\">\n  <thead>\n    <tr style=\"text-align: right;\">\n      <th></th>\n      <th>month</th>\n      <th>sale</th>\n      <th>year</th>\n    </tr>\n  </thead>\n  <tbody>\n    <tr>\n      <th>0</th>\n      <td>1</td>\n      <td>55</td>\n      <td>2024</td>\n    </tr>\n    <tr>\n      <th>1</th>\n      <td>4</td>\n      <td>40</td>\n      <td>2025</td>\n    </tr>\n    <tr>\n      <th>2</th>\n      <td>7</td>\n      <td>84</td>\n      <td>2026</td>\n    </tr>\n    <tr>\n      <th>3</th>\n      <td>10</td>\n      <td>31</td>\n      <td>2027</td>\n    </tr>\n  </tbody>\n</table>\n</div>"
     },
     "execution_count": 24,
     "metadata": {},
     "output_type": "execute_result"
    }
   ],
   "source": [
    "# 3. 取消设置索引列, drop: 默认是False, 表示不删除索引列,把它变为数据列.  写True会直接删除索引列. \n",
    "# df.reset_index(drop=False)  # 索引列 -> 普通列\n",
    "# df.reset_index(drop=True)     # 索引列 -> 会被删除\n",
    "\n",
    "df.reset_index(inplace=True)\n",
    "df"
   ],
   "metadata": {
    "collapsed": false,
    "ExecuteTime": {
     "end_time": "2024-12-21T13:17:17.494423500Z",
     "start_time": "2024-12-21T13:17:17.463990100Z"
    }
   },
   "id": "e694884d3f0913c6"
  },
  {
   "cell_type": "markdown",
   "source": [
    "## 3.3 设置多列为索引列"
   ],
   "metadata": {
    "collapsed": false
   },
   "id": "3fa42951fabe748a"
  },
  {
   "cell_type": "code",
   "execution_count": 25,
   "outputs": [
    {
     "data": {
      "text/plain": "   month  sale  year\n0      1    55  2024\n1      4    40  2025\n2      7    84  2026\n3     10    31  2027",
      "text/html": "<div>\n<style scoped>\n    .dataframe tbody tr th:only-of-type {\n        vertical-align: middle;\n    }\n\n    .dataframe tbody tr th {\n        vertical-align: top;\n    }\n\n    .dataframe thead th {\n        text-align: right;\n    }\n</style>\n<table border=\"1\" class=\"dataframe\">\n  <thead>\n    <tr style=\"text-align: right;\">\n      <th></th>\n      <th>month</th>\n      <th>sale</th>\n      <th>year</th>\n    </tr>\n  </thead>\n  <tbody>\n    <tr>\n      <th>0</th>\n      <td>1</td>\n      <td>55</td>\n      <td>2024</td>\n    </tr>\n    <tr>\n      <th>1</th>\n      <td>4</td>\n      <td>40</td>\n      <td>2025</td>\n    </tr>\n    <tr>\n      <th>2</th>\n      <td>7</td>\n      <td>84</td>\n      <td>2026</td>\n    </tr>\n    <tr>\n      <th>3</th>\n      <td>10</td>\n      <td>31</td>\n      <td>2027</td>\n    </tr>\n  </tbody>\n</table>\n</div>"
     },
     "execution_count": 25,
     "metadata": {},
     "output_type": "execute_result"
    }
   ],
   "source": [
    "# 1. 观察源数据.\n",
    "df"
   ],
   "metadata": {
    "collapsed": false,
    "ExecuteTime": {
     "end_time": "2024-12-21T13:17:21.367334800Z",
     "start_time": "2024-12-21T13:17:21.343836200Z"
    }
   },
   "id": "d91a7fec2e06eeaa"
  },
  {
   "cell_type": "code",
   "execution_count": 26,
   "outputs": [
    {
     "data": {
      "text/plain": "            sale\nyear month      \n2024 1        55\n2025 4        40\n2026 7        84\n2027 10       31",
      "text/html": "<div>\n<style scoped>\n    .dataframe tbody tr th:only-of-type {\n        vertical-align: middle;\n    }\n\n    .dataframe tbody tr th {\n        vertical-align: top;\n    }\n\n    .dataframe thead th {\n        text-align: right;\n    }\n</style>\n<table border=\"1\" class=\"dataframe\">\n  <thead>\n    <tr style=\"text-align: right;\">\n      <th></th>\n      <th></th>\n      <th>sale</th>\n    </tr>\n    <tr>\n      <th>year</th>\n      <th>month</th>\n      <th></th>\n    </tr>\n  </thead>\n  <tbody>\n    <tr>\n      <th>2024</th>\n      <th>1</th>\n      <td>55</td>\n    </tr>\n    <tr>\n      <th>2025</th>\n      <th>4</th>\n      <td>40</td>\n    </tr>\n    <tr>\n      <th>2026</th>\n      <th>7</th>\n      <td>84</td>\n    </tr>\n    <tr>\n      <th>2027</th>\n      <th>10</th>\n      <td>31</td>\n    </tr>\n  </tbody>\n</table>\n</div>"
     },
     "execution_count": 26,
     "metadata": {},
     "output_type": "execute_result"
    }
   ],
   "source": [
    "# 2. 设置多列索引. 需求: year和month设置为索引列.\n",
    "df.set_index(['year', 'month'], inplace=True)\n",
    "df"
   ],
   "metadata": {
    "collapsed": false,
    "ExecuteTime": {
     "end_time": "2024-12-21T13:17:28.135832800Z",
     "start_time": "2024-12-21T13:17:28.117484Z"
    }
   },
   "id": "bcf62d80900fd131"
  },
  {
   "cell_type": "markdown",
   "source": [
    "# 4. Pandas中的数据类型介绍"
   ],
   "metadata": {
    "collapsed": false
   },
   "id": "a852142ebb4c4551"
  },
  {
   "cell_type": "code",
   "execution_count": null,
   "outputs": [],
   "source": [
    "# Pandas中的类型有一些和Python是类似的, 例如: object(字符串), int, bool, float, nan(None), 也有一些特殊的, 例如: datetime, timedelta, category\n",
    "# 1. 演示 datetime: 日期时间类型.\n",
    "date1 = pd.to_datetime(['2024-12-21', '2024-12-22', '2024-12-23'])\n",
    "print(date1)\n",
    "print(type(date1))"
   ],
   "metadata": {
    "collapsed": false
   },
   "id": "88490bff2ddabb"
  },
  {
   "cell_type": "code",
   "execution_count": null,
   "outputs": [],
   "source": [
    "# 2. 演示 timedelta: 日期差类型(日期间隔类型)\n",
    "# 2.1 定义开始 和 结束时间.\n",
    "start_time = pd.to_datetime('2024-12-21')\n",
    "end_time = pd.to_datetime('2024-12-23')\n",
    "\n",
    "# 2.2 查看数据值.\n",
    "# print(end_time, type(end_time)) # 2024-12-23 00:00:00 <class 'pandas._libs.tslibs.timestamps.Timestamp'>\n",
    "\n",
    "# 2.3 获取 时间间隔(日期差).\n",
    "result = end_time - start_time\n",
    "print(result)\n",
    "print(type(result))     # <class 'pandas._libs.tslibs.timedeltas.Timedelta'>"
   ],
   "metadata": {
    "collapsed": false
   },
   "id": "dbc440132ed27775"
  },
  {
   "cell_type": "code",
   "execution_count": null,
   "outputs": [],
   "source": [
    "# 3. 演示 category: 类别类型\n",
    "# fruits = pd.Series(['apple', 'banana', 'cherry', 'apple', 'banana'])    # 每个值都会占用空间.\n",
    "\n",
    "# category: 减少内存消耗, 只存储唯一值\n",
    "fruits = pd.Series(['apple', 'banana', 'cherry', 'apple', 'banana'], dtype='category')   \n",
    "print(fruits)\n",
    "print(type(fruits))     # "
   ],
   "metadata": {
    "collapsed": false
   },
   "id": "205dd1397f7543c9"
  },
  {
   "cell_type": "code",
   "execution_count": 30,
   "outputs": [
    {
     "name": "stdout",
     "output_type": "stream",
     "text": [
      "0    1\n",
      "1    2\n",
      "2    3\n",
      "3    4\n",
      "4    5\n",
      "dtype: object\n",
      "<class 'pandas.core.series.Series'>\n"
     ]
    }
   ],
   "source": [
    "fruitsa=pd.Series(['1', '2', '3', '4', '5'])\n",
    "print(fruitsa)\n",
    "print(type(fruitsa))"
   ],
   "metadata": {
    "collapsed": false,
    "ExecuteTime": {
     "end_time": "2024-12-21T13:30:47.286730900Z",
     "start_time": "2024-12-21T13:30:47.273977700Z"
    }
   },
   "id": "98badf6531df1f00"
  },
  {
   "cell_type": "code",
   "execution_count": null,
   "outputs": [],
   "source": [],
   "metadata": {
    "collapsed": false
   },
   "id": "1c61dbcf707a3bf"
  }
 ],
 "metadata": {
  "kernelspec": {
   "display_name": "Python 3",
   "language": "python",
   "name": "python3"
  },
  "language_info": {
   "codemirror_mode": {
    "name": "ipython",
    "version": 2
   },
   "file_extension": ".py",
   "mimetype": "text/x-python",
   "name": "python",
   "nbconvert_exporter": "python",
   "pygments_lexer": "ipython2",
   "version": "2.7.6"
  }
 },
 "nbformat": 4,
 "nbformat_minor": 5
}
